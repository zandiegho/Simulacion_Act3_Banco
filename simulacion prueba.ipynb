{
 "cells": [
  {
   "cell_type": "code",
   "execution_count": 34,
   "metadata": {},
   "outputs": [],
   "source": [
    "import numpy as np\n",
    "\n",
    "# Definir las tasas de llegada y servicio según los parámetros\n",
    "tasa_llegada_retiro = {\n",
    "    'rápido': 1/1,\n",
    "    'normal': 1/2,\n",
    "    'lento': 1/3,\n",
    "    'muy lento': 1/3\n",
    "}\n",
    "\n",
    "tasa_servicio_retiro = {\n",
    "    'rápido': 1/1,\n",
    "    'normal': 1/2,\n",
    "    'lento': 1/3,\n",
    "    'muy lento': 1/4\n",
    "}\n",
    "\n",
    "tasa_llegada_pago = {\n",
    "    'rápido': 1/1,\n",
    "    'normal': 1/2,\n",
    "    'lento': 1/3,\n",
    "    'muy lento': 1/4\n",
    "}\n",
    "\n",
    "tasa_servicio_pago = {\n",
    "    'rápido': 1/3,\n",
    "    'normal': 1/3,\n",
    "    'lento': 1/5,\n",
    "    'muy lento': 1/7\n",
    "}\n",
    "\n",
    "# Probabilidades de tipos de usuario\n",
    "prob_retiro = [0.23, 0.40, 0.17, 0.20]\n",
    "prob_pago = [0.10, 0.20, 0.30, 0.40]\n",
    "\n",
    "# Tipos de usuario\n",
    "tipos_de_usuario = ['rápido', 'normal', 'lento', 'muy lento']\n",
    "\n"
   ]
  },
  {
   "cell_type": "code",
   "execution_count": 35,
   "metadata": {},
   "outputs": [],
   "source": [
    "# Simular un día de operaciones en el banco\n",
    "def simulate_day():\n",
    "    total_usarios = 0\n",
    "    tiempos_espera = []\n",
    "    contar_usuarios = {ut: 0 for ut in tipos_de_usuario}\n",
    "    tiempos_por_caja = [0, 0, 0]  # Para rastrear el tiempo total de servicio por cada caja\n",
    "    \n",
    "    for cajero in range(3):  # Tres cajeros\n",
    "        tiempo = 0\n",
    "        queue = []\n",
    "        while tiempo < 8 * 60:  # 8 horas de operación\n",
    "            # Decidir si es retiro o pago\n",
    "            if np.random.rand() >= 0.3:\n",
    "                tipo_accion = 'retiro'\n",
    "                tasa_llegada = np.random.choice(list(tasa_llegada_retiro.values()), p=prob_retiro)\n",
    "                tasa_servicio = np.random.choice(list(tasa_servicio_retiro.values()), p=prob_retiro)\n",
    "            else:\n",
    "                tipo_accion = 'pago'\n",
    "                tasa_llegada = np.random.choice(list(tasa_llegada_pago.values()), p=prob_pago)\n",
    "                tasa_servicio = np.random.choice(list(tasa_servicio_pago.values()), p=prob_pago)\n",
    "\n",
    "            # Tiempo hasta la próxima llegada\n",
    "            interarrival_time = np.random.exponential(scale=1/tasa_llegada)\n",
    "            tiempo += interarrival_time\n",
    "            if tiempo >= 8 * 60:\n",
    "                break\n",
    "            \n",
    "            # Tipo de usuario\n",
    "            tipo_usr = np.random.choice(tipos_de_usuario, p=prob_retiro if tipo_accion == 'retiro' else prob_pago)\n",
    "            contar_usuarios[tipo_usr] += 1\n",
    "            \n",
    "            # Tiempo de servicio\n",
    "            tiempo_servicio = np.random.exponential(scale=1/tasa_servicio)\n",
    "            if queue:\n",
    "                queue[-1][1] += tiempo_servicio  # Agregar el tiempo de servicio al último usuario en la cola\n",
    "            queue.append([tiempo, tiempo_servicio])\n",
    "            total_usarios += 1\n",
    "        \n",
    "        # Calcular tiempos de espera y tiempo total de servicio para cada caja\n",
    "        tiempo_inicio_servicio = 0\n",
    "        for tiempo_llegada, tiempo_servicio in queue:\n",
    "            if tiempo_inicio_servicio < tiempo_llegada:\n",
    "                tiempo_inicio_servicio = tiempo_llegada\n",
    "            tiempo_de_espera = tiempo_inicio_servicio - tiempo_llegada + tiempo_servicio\n",
    "            tiempos_espera.append(tiempo_de_espera)\n",
    "            tiempo_inicio_servicio += tiempo_servicio\n",
    "            tiempos_por_caja[cajero] += tiempo_servicio  # Sumar el tiempo de servicio al tiempo total de la caja\n",
    "    \n",
    "        print(\n",
    "            f\"Tipo de accion:\" , tipo_accion.swapcase(), \n",
    "            \"\\n\\tTiempo de Servicio:\" , tiempo_servicio , \n",
    "            \"\\n\\t\\t Usuario Atendido en caja\" , cajero + 1 , \"\\n\"            \n",
    "            )\n",
    "\n",
    "    promedio_tiempo_espera = np.mean(tiempos_espera)\n",
    "    return promedio_tiempo_espera, contar_usuarios, total_usarios, tiempos_por_caja\n",
    "\n",
    "\n"
   ]
  },
  {
   "cell_type": "code",
   "execution_count": 36,
   "metadata": {},
   "outputs": [],
   "source": [
    "# Realizar múltiples corridas\n",
    "def simulacion_banco(num_simulaciones):\n",
    "    results = []\n",
    "    for _ in range(num_simulaciones):\n",
    "        results.append(simulate_day())\n",
    "    return results\n",
    "\n"
   ]
  },
  {
   "cell_type": "code",
   "execution_count": 37,
   "metadata": {},
   "outputs": [
    {
     "name": "stdout",
     "output_type": "stream",
     "text": [
      "Tipo de accion: RETIRO \n",
      "\tTiempo de Servicio: 0.9803294071179348 \n",
      "\t\t Usuario Atendido en caja 1 \n",
      "\n",
      "Tipo de accion: RETIRO \n",
      "\tTiempo de Servicio: 12.741039024427835 \n",
      "\t\t Usuario Atendido en caja 2 \n",
      "\n",
      "Tipo de accion: RETIRO \n",
      "\tTiempo de Servicio: 1.4227811082645578 \n",
      "\t\t Usuario Atendido en caja 3 \n",
      "\n",
      "Tipo de accion: RETIRO \n",
      "\tTiempo de Servicio: 0.7210035658855457 \n",
      "\t\t Usuario Atendido en caja 1 \n",
      "\n",
      "Tipo de accion: RETIRO \n",
      "\tTiempo de Servicio: 0.13345603083654434 \n",
      "\t\t Usuario Atendido en caja 2 \n",
      "\n",
      "Tipo de accion: RETIRO \n",
      "\tTiempo de Servicio: 0.44173529559094027 \n",
      "\t\t Usuario Atendido en caja 3 \n",
      "\n",
      "Tipo de accion: RETIRO \n",
      "\tTiempo de Servicio: 3.4816247252609123 \n",
      "\t\t Usuario Atendido en caja 1 \n",
      "\n",
      "Tipo de accion: RETIRO \n",
      "\tTiempo de Servicio: 10.34093911473306 \n",
      "\t\t Usuario Atendido en caja 2 \n",
      "\n",
      "Tipo de accion: PAGO \n",
      "\tTiempo de Servicio: 4.022601483744015 \n",
      "\t\t Usuario Atendido en caja 3 \n",
      "\n",
      "Tipo de accion: RETIRO \n",
      "\tTiempo de Servicio: 0.42609169109844974 \n",
      "\t\t Usuario Atendido en caja 1 \n",
      "\n",
      "Tipo de accion: RETIRO \n",
      "\tTiempo de Servicio: 10.360924299692622 \n",
      "\t\t Usuario Atendido en caja 2 \n",
      "\n",
      "Tipo de accion: PAGO \n",
      "\tTiempo de Servicio: 2.8395186701780104 \n",
      "\t\t Usuario Atendido en caja 3 \n",
      "\n",
      "Tipo de accion: PAGO \n",
      "\tTiempo de Servicio: 1.4729700556184226 \n",
      "\t\t Usuario Atendido en caja 1 \n",
      "\n",
      "Tipo de accion: PAGO \n",
      "\tTiempo de Servicio: 0.563745487325121 \n",
      "\t\t Usuario Atendido en caja 2 \n",
      "\n",
      "Tipo de accion: PAGO \n",
      "\tTiempo de Servicio: 4.271742248269465 \n",
      "\t\t Usuario Atendido en caja 3 \n",
      "\n",
      "Tipo de accion: PAGO \n",
      "\tTiempo de Servicio: 7.062825427952292 \n",
      "\t\t Usuario Atendido en caja 1 \n",
      "\n",
      "Tipo de accion: RETIRO \n",
      "\tTiempo de Servicio: 1.1725840149898095 \n",
      "\t\t Usuario Atendido en caja 2 \n",
      "\n",
      "Tipo de accion: PAGO \n",
      "\tTiempo de Servicio: 1.7824897231194046 \n",
      "\t\t Usuario Atendido en caja 3 \n",
      "\n",
      "Tipo de accion: PAGO \n",
      "\tTiempo de Servicio: 0.5969480204753429 \n",
      "\t\t Usuario Atendido en caja 1 \n",
      "\n",
      "Tipo de accion: RETIRO \n",
      "\tTiempo de Servicio: 1.8486138290226377 \n",
      "\t\t Usuario Atendido en caja 2 \n",
      "\n",
      "Tipo de accion: RETIRO \n",
      "\tTiempo de Servicio: 1.2837066070938745 \n",
      "\t\t Usuario Atendido en caja 3 \n",
      "\n",
      "Tipo de accion: RETIRO \n",
      "\tTiempo de Servicio: 5.275301616432955 \n",
      "\t\t Usuario Atendido en caja 1 \n",
      "\n",
      "Tipo de accion: RETIRO \n",
      "\tTiempo de Servicio: 0.871276007231701 \n",
      "\t\t Usuario Atendido en caja 2 \n",
      "\n",
      "Tipo de accion: RETIRO \n",
      "\tTiempo de Servicio: 3.427707284445592 \n",
      "\t\t Usuario Atendido en caja 3 \n",
      "\n",
      "Tipo de accion: RETIRO \n",
      "\tTiempo de Servicio: 4.364861930381693 \n",
      "\t\t Usuario Atendido en caja 1 \n",
      "\n",
      "Tipo de accion: RETIRO \n",
      "\tTiempo de Servicio: 10.38491358341682 \n",
      "\t\t Usuario Atendido en caja 2 \n",
      "\n",
      "Tipo de accion: RETIRO \n",
      "\tTiempo de Servicio: 0.3370819275607674 \n",
      "\t\t Usuario Atendido en caja 3 \n",
      "\n",
      "Tipo de accion: RETIRO \n",
      "\tTiempo de Servicio: 1.7275332185716783 \n",
      "\t\t Usuario Atendido en caja 1 \n",
      "\n",
      "Tipo de accion: PAGO \n",
      "\tTiempo de Servicio: 1.4838387537133444 \n",
      "\t\t Usuario Atendido en caja 2 \n",
      "\n",
      "Tipo de accion: RETIRO \n",
      "\tTiempo de Servicio: 9.813628814449364 \n",
      "\t\t Usuario Atendido en caja 3 \n",
      "\n"
     ]
    }
   ],
   "source": [
    "# Ejecutar la simulación\n",
    "simulaciones = 10\n",
    "result = simulacion_banco(simulaciones)\n",
    "\n",
    "# Calcular estadísticas\n",
    "promedio_esperas = [r[0] for r in result]\n",
    "conteo_usuarios_general = [r[1] for r in result]\n",
    "total_usuarios_general = [r[2] for r in result]\n",
    "tiempos_por_caja_general = [r[3] for r in result]\n",
    "\n",
    "promedio_espera_general = np.mean(promedio_esperas)\n",
    "promedio_usuarios = {ut: np.mean([user_counts[ut] for user_counts in conteo_usuarios_general]) for ut in tipos_de_usuario}\n",
    "\n",
    "# Calcular la caja con el menor y mayor tiempo de servicio\n",
    "tiempos_por_caja_promedio = np.mean(tiempos_por_caja_general, axis=0)\n",
    "caja_menor_tiempo = np.argmin(tiempos_por_caja_promedio) + 1\n",
    "caja_mayor_tiempo = np.argmax(tiempos_por_caja_promedio) + 1\n",
    "\n"
   ]
  },
  {
   "cell_type": "code",
   "execution_count": 38,
   "metadata": {},
   "outputs": [
    {
     "name": "stdout",
     "output_type": "stream",
     "text": [
      "\n",
      "Tiempo promedio de espera: 411.2003756130786 \n",
      "\n",
      "Promedio de usuarios de cada tipo: {'rápido': 114.1, 'normal': 208.6, 'lento': 126.7, 'muy lento': 161.8} \n",
      "\n",
      "Total de usuarios en todas las corridas: [625, 586, 654, 579, 612, 580, 630, 642, 590, 614] \n",
      "\n"
     ]
    }
   ],
   "source": [
    "print(\"\\nTiempo promedio de espera:\", promedio_espera_general , \"\\n\")\n",
    "print(\"Promedio de usuarios de cada tipo:\", promedio_usuarios , \"\\n\")\n",
    "print(\"Total de usuarios en todas las corridas:\", total_usuarios_general , \"\\n\")"
   ]
  },
  {
   "cell_type": "code",
   "execution_count": 39,
   "metadata": {},
   "outputs": [
    {
     "name": "stdout",
     "output_type": "stream",
     "text": [
      "El Total de usuarios en corrida 1 es: 625\n",
      "El Total de usuarios en corrida 2 es: 586\n",
      "El Total de usuarios en corrida 3 es: 654\n",
      "El Total de usuarios en corrida 4 es: 579\n",
      "El Total de usuarios en corrida 5 es: 612\n",
      "El Total de usuarios en corrida 6 es: 580\n",
      "El Total de usuarios en corrida 7 es: 630\n",
      "El Total de usuarios en corrida 8 es: 642\n",
      "El Total de usuarios en corrida 9 es: 590\n",
      "El Total de usuarios en corrida 10 es: 614\n"
     ]
    }
   ],
   "source": [
    "for idx, usuarios in enumerate(total_usuarios_general, start=1):\n",
    "    print(f\"El Total de usuarios en corrida\" , idx , \"es:\" , usuarios)\n",
    "\n"
   ]
  },
  {
   "cell_type": "code",
   "execution_count": 40,
   "metadata": {},
   "outputs": [
    {
     "name": "stdout",
     "output_type": "stream",
     "text": [
      "\n",
      "Tiempos de servicio promedio por caja: [1243.217951   1291.92279998 1302.69831988] \n",
      "\n",
      "La caja con menor tiempo de servicio es la caja 1 con un tiempo de servicio promedio de 1243.2179509964387\n",
      "La caja con mayor tiempo de servicio es la caja 3 con un tiempo de servicio promedio de 1302.6983198796756\n"
     ]
    }
   ],
   "source": [
    "print(\"\\nTiempos de servicio promedio por caja:\", tiempos_por_caja_promedio , \"\\n\")\n",
    "print(f\"La caja con menor tiempo de servicio es la caja {caja_menor_tiempo} con un tiempo de servicio promedio de {tiempos_por_caja_promedio[caja_menor_tiempo-1]}\")\n",
    "print(f\"La caja con mayor tiempo de servicio es la caja {caja_mayor_tiempo} con un tiempo de servicio promedio de {tiempos_por_caja_promedio[caja_mayor_tiempo-1]}\")"
   ]
  },
  {
   "cell_type": "code",
   "execution_count": 41,
   "metadata": {},
   "outputs": [
    {
     "name": "stdout",
     "output_type": "stream",
     "text": [
      "Promedio de usuarios de cada tipo en la totalidad de cajeros:\n",
      "rápido: 114.1\n",
      "normal: 208.6\n",
      "lento: 126.7\n",
      "muy lento: 161.8\n"
     ]
    }
   ],
   "source": [
    "promedio_usuarios_total = {ut: np.mean([user_counts[ut] for user_counts in conteo_usuarios_general]) for ut in tipos_de_usuario}\n",
    "\n",
    "print(\"Promedio de usuarios de cada tipo en la totalidad de cajeros:\")\n",
    "for tipo, promedio in promedio_usuarios_total.items():\n",
    "    print(f\"{tipo}: {promedio}\")\n"
   ]
  },
  {
   "cell_type": "code",
   "execution_count": 42,
   "metadata": {},
   "outputs": [
    {
     "name": "stdout",
     "output_type": "stream",
     "text": [
      "\n",
      "Total de usuarios de cada tipo en cada simulación:\n",
      "Simulación 1: {'rápido': 131, 'normal': 217, 'lento': 126, 'muy lento': 151}\n",
      "Simulación 2: {'rápido': 95, 'normal': 201, 'lento': 123, 'muy lento': 167}\n",
      "Simulación 3: {'rápido': 125, 'normal': 224, 'lento': 127, 'muy lento': 178}\n",
      "Simulación 4: {'rápido': 104, 'normal': 195, 'lento': 122, 'muy lento': 158}\n",
      "Simulación 5: {'rápido': 127, 'normal': 207, 'lento': 131, 'muy lento': 147}\n",
      "Simulación 6: {'rápido': 107, 'normal': 212, 'lento': 119, 'muy lento': 142}\n",
      "Simulación 7: {'rápido': 114, 'normal': 206, 'lento': 130, 'muy lento': 180}\n",
      "Simulación 8: {'rápido': 114, 'normal': 230, 'lento': 133, 'muy lento': 165}\n",
      "Simulación 9: {'rápido': 110, 'normal': 184, 'lento': 123, 'muy lento': 173}\n",
      "Simulación 10: {'rápido': 114, 'normal': 210, 'lento': 133, 'muy lento': 157}\n",
      "\n",
      "Simulación con menor cantidad de usuarios por tipo:\n",
      "{'rápido': 104, 'normal': 195, 'lento': 122, 'muy lento': 158}\n"
     ]
    }
   ],
   "source": [
    "# Obtener el total de usuarios de cada tipo en cada simulación\n",
    "usuarios_por_tipo_por_simulacion = [{ut: user_counts[ut] for ut in tipos_de_usuario} for user_counts in conteo_usuarios_general]\n",
    "\n",
    "# Encontrar la simulación con el menor número de usuarios por tipo\n",
    "simulacion_menor_usuarios_por_tipo = min(usuarios_por_tipo_por_simulacion, key=lambda x: sum(x.values()))\n",
    "\n",
    "print(\"\\nTotal de usuarios de cada tipo en cada simulación:\")\n",
    "for idx, usuarios_por_tipo in enumerate(usuarios_por_tipo_por_simulacion, start=1):\n",
    "    print(f\"Simulación {idx}: {usuarios_por_tipo}\")\n",
    "\n",
    "print(\"\\nSimulación con menor cantidad de usuarios por tipo:\")\n",
    "print(simulacion_menor_usuarios_por_tipo)\n"
   ]
  },
  {
   "cell_type": "code",
   "execution_count": 43,
   "metadata": {},
   "outputs": [
    {
     "name": "stdout",
     "output_type": "stream",
     "text": [
      "Es necesario crear un nuevo cajero debido al alto tiempo promedio de espera (411.2003756130786 minutos).\n"
     ]
    }
   ],
   "source": [
    "umbral_tiempo_espera = 10  # Umbral en minutos\n",
    "\n",
    "if promedio_espera_general > umbral_tiempo_espera:\n",
    "    print(f\"Es necesario crear un nuevo cajero debido al alto tiempo promedio de espera ({promedio_espera_general} minutos).\")\n",
    "else:\n",
    "    print(f\"No es necesario crear un nuevo cajero, el tiempo promedio de espera es aceptable ({promedio_espera_general} minutos).\")\n"
   ]
  },
  {
   "cell_type": "code",
   "execution_count": 45,
   "metadata": {},
   "outputs": [
    {
     "name": "stdout",
     "output_type": "stream",
     "text": [
      "\n",
      "Proporción de cajeros para retiros: 0.50\n",
      "Proporción de cajeros para pagos: 0.50\n"
     ]
    }
   ],
   "source": [
    "# Calcular tiempos promedio de servicio por tipo de operación\n",
    "tiempos_promedio_servicio_retiro = np.mean(tiempos_por_caja_promedio)  # Primeros 3 elementos para retiros\n",
    "tiempos_promedio_servicio_pago = np.mean(tiempos_por_caja_promedio)   # Últimos 3 elementos para pagos\n",
    "\n",
    "# Decidir cuántos cajeros deben ofrecer atención exclusiva para pagos y retiros\n",
    "proporcion_retiro = tiempos_promedio_servicio_retiro / (tiempos_promedio_servicio_retiro + tiempos_promedio_servicio_pago)\n",
    "proporcion_pago = tiempos_promedio_servicio_pago / (tiempos_promedio_servicio_retiro + tiempos_promedio_servicio_pago)\n",
    "\n",
    "print(f\"\\nProporción de cajeros para retiros: {proporcion_retiro:.2f}\")\n",
    "print(f\"Proporción de cajeros para pagos: {proporcion_pago:.2f}\")\n"
   ]
  }
 ],
 "metadata": {
  "kernelspec": {
   "display_name": "Python 3",
   "language": "python",
   "name": "python3"
  },
  "language_info": {
   "codemirror_mode": {
    "name": "ipython",
    "version": 3
   },
   "file_extension": ".py",
   "mimetype": "text/x-python",
   "name": "python",
   "nbconvert_exporter": "python",
   "pygments_lexer": "ipython3",
   "version": "3.12.3"
  }
 },
 "nbformat": 4,
 "nbformat_minor": 2
}
